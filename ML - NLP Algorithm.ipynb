{
  "nbformat": 4,
  "nbformat_minor": 0,
  "metadata": {
    "colab": {
      "provenance": []
    },
    "kernelspec": {
      "name": "python3",
      "display_name": "Python 3"
    },
    "language_info": {
      "name": "python"
    }
  },
  "cells": [
    {
      "cell_type": "code",
      "execution_count": 15,
      "metadata": {
        "colab": {
          "base_uri": "https://localhost:8080/"
        },
        "id": "SjI27249zTAI",
        "outputId": "29508bf3-7598-4465-c875-8d0fbf395bb7"
      },
      "outputs": [
        {
          "output_type": "stream",
          "name": "stdout",
          "text": [
            "Requirement already satisfied: pdfplumber in /usr/local/lib/python3.10/dist-packages (0.10.4)\n",
            "Requirement already satisfied: pandas in /usr/local/lib/python3.10/dist-packages (1.5.3)\n",
            "Requirement already satisfied: pdfminer.six==20221105 in /usr/local/lib/python3.10/dist-packages (from pdfplumber) (20221105)\n",
            "Requirement already satisfied: Pillow>=9.1 in /usr/local/lib/python3.10/dist-packages (from pdfplumber) (9.4.0)\n",
            "Requirement already satisfied: pypdfium2>=4.18.0 in /usr/local/lib/python3.10/dist-packages (from pdfplumber) (4.27.0)\n",
            "Requirement already satisfied: charset-normalizer>=2.0.0 in /usr/local/lib/python3.10/dist-packages (from pdfminer.six==20221105->pdfplumber) (3.3.2)\n",
            "Requirement already satisfied: cryptography>=36.0.0 in /usr/local/lib/python3.10/dist-packages (from pdfminer.six==20221105->pdfplumber) (42.0.2)\n",
            "Requirement already satisfied: python-dateutil>=2.8.1 in /usr/local/lib/python3.10/dist-packages (from pandas) (2.8.2)\n",
            "Requirement already satisfied: pytz>=2020.1 in /usr/local/lib/python3.10/dist-packages (from pandas) (2023.4)\n",
            "Requirement already satisfied: numpy>=1.21.0 in /usr/local/lib/python3.10/dist-packages (from pandas) (1.25.2)\n",
            "Requirement already satisfied: six>=1.5 in /usr/local/lib/python3.10/dist-packages (from python-dateutil>=2.8.1->pandas) (1.16.0)\n",
            "Requirement already satisfied: cffi>=1.12 in /usr/local/lib/python3.10/dist-packages (from cryptography>=36.0.0->pdfminer.six==20221105->pdfplumber) (1.16.0)\n",
            "Requirement already satisfied: pycparser in /usr/local/lib/python3.10/dist-packages (from cffi>=1.12->cryptography>=36.0.0->pdfminer.six==20221105->pdfplumber) (2.21)\n"
          ]
        }
      ],
      "source": [
        "pip install pdfplumber pandas"
      ]
    },
    {
      "cell_type": "code",
      "source": [
        "!pip install pymupdf"
      ],
      "metadata": {
        "colab": {
          "base_uri": "https://localhost:8080/"
        },
        "id": "bcWBz9A1kugk",
        "outputId": "a2f80e24-bdc9-4716-9d88-0e0a9dbc641d"
      },
      "execution_count": 17,
      "outputs": [
        {
          "output_type": "stream",
          "name": "stdout",
          "text": [
            "Collecting pymupdf\n",
            "  Downloading PyMuPDF-1.23.22-cp310-none-manylinux2014_x86_64.whl (4.4 MB)\n",
            "\u001b[2K     \u001b[90m━━━━━━━━━━━━━━━━━━━━━━━━━━━━━━━━━━━━━━━━\u001b[0m \u001b[32m4.4/4.4 MB\u001b[0m \u001b[31m13.5 MB/s\u001b[0m eta \u001b[36m0:00:00\u001b[0m\n",
            "\u001b[?25hCollecting PyMuPDFb==1.23.22 (from pymupdf)\n",
            "  Downloading PyMuPDFb-1.23.22-py3-none-manylinux2014_x86_64.manylinux_2_17_x86_64.whl (30.6 MB)\n",
            "\u001b[2K     \u001b[90m━━━━━━━━━━━━━━━━━━━━━━━━━━━━━━━━━━━━━━━━\u001b[0m \u001b[32m30.6/30.6 MB\u001b[0m \u001b[31m27.1 MB/s\u001b[0m eta \u001b[36m0:00:00\u001b[0m\n",
            "\u001b[?25hInstalling collected packages: PyMuPDFb, pymupdf\n",
            "Successfully installed PyMuPDFb-1.23.22 pymupdf-1.23.22\n"
          ]
        }
      ]
    },
    {
      "cell_type": "code",
      "source": [
        "import pdfplumber\n",
        "import pandas as pd\n",
        "\n",
        "import fitz  # PyMuPDF\n",
        "\n",
        "def read_pdf(file_path):\n",
        "    # Open the provided PDF file\n",
        "    doc = fitz.open(file_path)\n",
        "\n",
        "    # Initialize a text variable to store the extracted text\n",
        "    text = ''\n",
        "\n",
        "    # Iterate through each page in the PDF\n",
        "    for page in doc:\n",
        "        # Extract text from the current page\n",
        "        text += page.get_text()\n",
        "\n",
        "    # Close the document\n",
        "    doc.close()\n",
        "\n",
        "    return text\n",
        "\n",
        "# Replace 'your_pdf_file.pdf' with the path to your actual PDF file\n",
        "pdf_text = read_pdf('/content/Sample-filled-in-MR.pdf')\n",
        "print(pdf_text)\n"
      ],
      "metadata": {
        "id": "53IMBNsu0ul3"
      },
      "execution_count": null,
      "outputs": []
    },
    {
      "cell_type": "code",
      "source": [
        "def simple_chatbot(query, pdf_text):\n",
        "    query = query.lower()\n",
        "    keyword_responses = {\n",
        "        'patient name': 'The patient name is John Doe.',\n",
        "        'age': 'The patient is 35 years old.',\n",
        "        'diagnosis': 'The diagnosis is hypertension.',\n",
        "        # Add more keywords and responses as needed\n",
        "    }\n",
        "    for keyword, response in keyword_responses.items():\n",
        "        if keyword in pdf_text.lower():\n",
        "            return response\n",
        "    #Edge case\n",
        "    return \"I'm sorry, I couldn't find information related to your query.\"\n",
        "\n",
        "# Example usage:\n",
        "query = input(\"Ask me something about the patient's report: \")\n",
        "response = simple_chatbot(query, pdf_text)\n",
        "print(response)"
      ],
      "metadata": {
        "id": "kcobgdP_Ipae"
      },
      "execution_count": null,
      "outputs": []
    },
    {
      "cell_type": "code",
      "source": [],
      "metadata": {
        "id": "ddsTe47XzVxf"
      },
      "execution_count": 12,
      "outputs": []
    }
  ]
}